{
 "cells": [
  {
   "cell_type": "code",
   "execution_count": 1,
   "id": "f8e6b70d-923f-4240-8c98-afa6540ffe65",
   "metadata": {},
   "outputs": [
    {
     "name": "stdout",
     "output_type": "stream",
     "text": [
      "done\n",
      "2083180\n"
     ]
    }
   ],
   "source": [
    "import csv\n",
    "import os\n",
    "\n",
    "filename = \"NOTEEVENTS.csv\"\n",
    "\n",
    "# create a directory to store the output files\n",
    "output_dir = \"input\"\n",
    "count = 0\n",
    "if not os.path.exists(output_dir):\n",
    "    os.makedirs(output_dir)\n",
    "\n",
    "with open(filename, newline='') as csvfile:\n",
    "    reader = csv.DictReader(csvfile)\n",
    "    for row in reader:\n",
    "        subject_id = row['SUBJECT_ID']\n",
    "        text = row['TEXT']\n",
    "        output_file = os.path.join(output_dir, f\"{subject_id}.txt\")\n",
    "        with open(output_file, \"a\") as f:\n",
    "            f.write(text + \"\\n\")\n",
    "        f.close()  # close the file after writing\n",
    "        count+=1\n",
    "csvfile.close()  # close the input file after the loop\n",
    "print(\"done\")\n",
    "print(count)"
   ]
  },
  {
   "cell_type": "code",
   "execution_count": null,
   "id": "600915f8-0a38-4f1d-bf37-84ba8afd4b11",
   "metadata": {},
   "outputs": [],
   "source": []
  }
 ],
 "metadata": {
  "kernelspec": {
   "display_name": "Python 3",
   "language": "python",
   "name": "python3"
  },
  "language_info": {
   "codemirror_mode": {
    "name": "ipython",
    "version": 3
   },
   "file_extension": ".py",
   "mimetype": "text/x-python",
   "name": "python",
   "nbconvert_exporter": "python",
   "pygments_lexer": "ipython3",
   "version": "3.8.8"
  }
 },
 "nbformat": 4,
 "nbformat_minor": 5
}
